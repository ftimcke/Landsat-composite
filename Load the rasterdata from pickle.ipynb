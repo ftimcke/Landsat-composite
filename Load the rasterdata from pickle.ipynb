{
 "cells": [
  {
   "cell_type": "markdown",
   "metadata": {},
   "source": [
    "## Load the rasterdata from pickle or USGS into Python\n",
    "\n",
    "`EOdal SceneCollections` can be made persistent by storing them as serialized pickled objects on disk (and can be loaded from there). Thus, significant amounts of time can be saved as data extraction and processing routines have not necessarily to be repeated.\n",
    "If the Scenes are extracted for the first time this will take some time depending on the extend and numbers of scenes found per time interval."
   ]
  },
  {
   "cell_type": "code",
   "execution_count": null,
   "metadata": {},
   "outputs": [],
   "source": [
    "fpath: Path = Path(base_dir.joinpath(f'scenes/all_scenes_{shapefile_name[:-4]}_{str(time_start)[:-9]}_{str(time_end)[:-9]}.pkl'))\n",
    "\n",
    "if fpath.exists():\n",
    "    print(f\"The SceneCollection is loaded from the pickle file at: {fpath}\")\n",
    "    mapper.data = SceneCollection.from_pickle(stream=fpath)\n",
    "    print(mapper.data)\n",
    "\n",
    "else:\n",
    "    print(f\"The file {fpath} does not yet exist thus the SceneCollection will be extracted from the USGS archive.\")\n",
    "\n",
    "    # We tell EOdal how to load the Landsat scenes using `Landsat.from_usgs`and pass on some kwargs, e.g., the selection of bands we want to read. \n",
    "    # In addition, we tell EOdal to mask out clouds and shadows and the fly while reading the data using the qa_pixel band (therefore, we set the `read_qa` flag to True.\n",
    "    scene_kwargs = {\n",
    "        'scene_constructor': Landsat.from_usgs,\n",
    "        'scene_constructor_kwargs': {\n",
    "            'band_selection': ['blue', 'green', 'red', 'nir08', 'swir16', 'swir22'],\n",
    "            'read_qa': True},\n",
    "        'scene_modifier': prepocess_landsat_scene,\n",
    "        'scene_modifier_kwargs': {}\n",
    "        }\n",
    "\n",
    "    # now we load the scenes\n",
    "    mapper.load_scenes(scene_kwargs=scene_kwargs)\n",
    "\n",
    "    with open(fpath, 'wb+') as dst:\n",
    "        dst.write(mapper.data.to_pickle())"
   ]
  }
 ],
 "metadata": {
  "language_info": {
   "name": "python"
  }
 },
 "nbformat": 4,
 "nbformat_minor": 2
}
